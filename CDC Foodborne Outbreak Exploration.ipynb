{
 "cells": [
  {
   "cell_type": "markdown",
   "id": "b5f1352c",
   "metadata": {},
   "source": [
    "# CDC Foodborne Illness Analysis\n"
   ]
  },
  {
   "cell_type": "code",
   "execution_count": 78,
   "id": "41424cef",
   "metadata": {},
   "outputs": [],
   "source": [
    "#importing all the tool kits needed to conduct this project\n",
    "import matplotlib.pyplot as plt\n",
    "import numpy as np\n",
    "import pandas as pd\n",
    "import seaborn as sns\n",
    "from sklearn import datasets, linear_model\n",
    "from sklearn.metrics import mean_squared_error, r2_score\n",
    "\n",
    "#import CDC dataset \n",
    "df = pd.read_csv('NationalOutbreakPublicDataTool.xlsx - Outbreak Data.csv')\n"
   ]
  },
  {
   "cell_type": "markdown",
   "id": "1834367b",
   "metadata": {},
   "source": [
    "## I wanted to get a quick visual on what the data looked like after I converted the excel file to a csv and imported it into the notebook"
   ]
  },
  {
   "cell_type": "code",
   "execution_count": 79,
   "id": "77581f31",
   "metadata": {},
   "outputs": [
    {
     "data": {
      "text/html": [
       "<div>\n",
       "<style scoped>\n",
       "    .dataframe tbody tr th:only-of-type {\n",
       "        vertical-align: middle;\n",
       "    }\n",
       "\n",
       "    .dataframe tbody tr th {\n",
       "        vertical-align: top;\n",
       "    }\n",
       "\n",
       "    .dataframe thead th {\n",
       "        text-align: right;\n",
       "    }\n",
       "</style>\n",
       "<table border=\"1\" class=\"dataframe\">\n",
       "  <thead>\n",
       "    <tr style=\"text-align: right;\">\n",
       "      <th></th>\n",
       "      <th>Year</th>\n",
       "      <th>Month</th>\n",
       "      <th>State</th>\n",
       "      <th>Primary Mode</th>\n",
       "      <th>Etiology</th>\n",
       "      <th>Serotype or Genotype</th>\n",
       "      <th>Etiology Status</th>\n",
       "      <th>Setting</th>\n",
       "      <th>Illnesses</th>\n",
       "      <th>Hospitalizations</th>\n",
       "      <th>...</th>\n",
       "      <th>Deaths</th>\n",
       "      <th>Info on Deaths</th>\n",
       "      <th>Food Vehicle</th>\n",
       "      <th>Food Contaminated Ingredient</th>\n",
       "      <th>IFSAC Category</th>\n",
       "      <th>Water Exposure</th>\n",
       "      <th>Water Type</th>\n",
       "      <th>Animal Type</th>\n",
       "      <th>Animal Type Specify</th>\n",
       "      <th>Water Status</th>\n",
       "    </tr>\n",
       "  </thead>\n",
       "  <tbody>\n",
       "    <tr>\n",
       "      <th>0</th>\n",
       "      <td>2009</td>\n",
       "      <td>1</td>\n",
       "      <td>Minnesota</td>\n",
       "      <td>Person-to-person</td>\n",
       "      <td>Norovirus Genogroup II</td>\n",
       "      <td>unknown</td>\n",
       "      <td>Confirmed</td>\n",
       "      <td>Hotel/motel</td>\n",
       "      <td>21</td>\n",
       "      <td>0.0</td>\n",
       "      <td>...</td>\n",
       "      <td>0.0</td>\n",
       "      <td>19.0</td>\n",
       "      <td>NaN</td>\n",
       "      <td>NaN</td>\n",
       "      <td>NaN</td>\n",
       "      <td>NaN</td>\n",
       "      <td>NaN</td>\n",
       "      <td>NaN</td>\n",
       "      <td>NaN</td>\n",
       "      <td>NaN</td>\n",
       "    </tr>\n",
       "    <tr>\n",
       "      <th>1</th>\n",
       "      <td>2009</td>\n",
       "      <td>1</td>\n",
       "      <td>Minnesota</td>\n",
       "      <td>Food</td>\n",
       "      <td>Norovirus</td>\n",
       "      <td>NaN</td>\n",
       "      <td>Suspected</td>\n",
       "      <td>Restaurant - Sit-down dining</td>\n",
       "      <td>2</td>\n",
       "      <td>0.0</td>\n",
       "      <td>...</td>\n",
       "      <td>0.0</td>\n",
       "      <td>2.0</td>\n",
       "      <td>NaN</td>\n",
       "      <td>NaN</td>\n",
       "      <td>NaN</td>\n",
       "      <td>NaN</td>\n",
       "      <td>NaN</td>\n",
       "      <td>NaN</td>\n",
       "      <td>NaN</td>\n",
       "      <td>NaN</td>\n",
       "    </tr>\n",
       "    <tr>\n",
       "      <th>2</th>\n",
       "      <td>2009</td>\n",
       "      <td>2</td>\n",
       "      <td>Minnesota</td>\n",
       "      <td>Person-to-person</td>\n",
       "      <td>Norovirus</td>\n",
       "      <td>NaN</td>\n",
       "      <td>Suspected</td>\n",
       "      <td>Other, specify</td>\n",
       "      <td>50</td>\n",
       "      <td>0.0</td>\n",
       "      <td>...</td>\n",
       "      <td>0.0</td>\n",
       "      <td>50.0</td>\n",
       "      <td>NaN</td>\n",
       "      <td>NaN</td>\n",
       "      <td>NaN</td>\n",
       "      <td>NaN</td>\n",
       "      <td>NaN</td>\n",
       "      <td>NaN</td>\n",
       "      <td>NaN</td>\n",
       "      <td>NaN</td>\n",
       "    </tr>\n",
       "    <tr>\n",
       "      <th>3</th>\n",
       "      <td>2009</td>\n",
       "      <td>1</td>\n",
       "      <td>Minnesota</td>\n",
       "      <td>Person-to-person</td>\n",
       "      <td>Norovirus unknown</td>\n",
       "      <td>NaN</td>\n",
       "      <td>Confirmed</td>\n",
       "      <td>Restaurant</td>\n",
       "      <td>24</td>\n",
       "      <td>0.0</td>\n",
       "      <td>...</td>\n",
       "      <td>0.0</td>\n",
       "      <td>24.0</td>\n",
       "      <td>NaN</td>\n",
       "      <td>NaN</td>\n",
       "      <td>NaN</td>\n",
       "      <td>NaN</td>\n",
       "      <td>NaN</td>\n",
       "      <td>NaN</td>\n",
       "      <td>NaN</td>\n",
       "      <td>NaN</td>\n",
       "    </tr>\n",
       "    <tr>\n",
       "      <th>4</th>\n",
       "      <td>2009</td>\n",
       "      <td>1</td>\n",
       "      <td>Minnesota</td>\n",
       "      <td>Food</td>\n",
       "      <td>Norovirus</td>\n",
       "      <td>NaN</td>\n",
       "      <td>Confirmed</td>\n",
       "      <td>NaN</td>\n",
       "      <td>16</td>\n",
       "      <td>0.0</td>\n",
       "      <td>...</td>\n",
       "      <td>0.0</td>\n",
       "      <td>16.0</td>\n",
       "      <td>NaN</td>\n",
       "      <td>NaN</td>\n",
       "      <td>NaN</td>\n",
       "      <td>NaN</td>\n",
       "      <td>NaN</td>\n",
       "      <td>NaN</td>\n",
       "      <td>NaN</td>\n",
       "      <td>NaN</td>\n",
       "    </tr>\n",
       "  </tbody>\n",
       "</table>\n",
       "<p>5 rows × 21 columns</p>\n",
       "</div>"
      ],
      "text/plain": [
       "   Year  Month      State      Primary Mode                Etiology  \\\n",
       "0  2009      1  Minnesota  Person-to-person  Norovirus Genogroup II   \n",
       "1  2009      1  Minnesota              Food               Norovirus   \n",
       "2  2009      2  Minnesota  Person-to-person               Norovirus   \n",
       "3  2009      1  Minnesota  Person-to-person       Norovirus unknown   \n",
       "4  2009      1  Minnesota              Food               Norovirus   \n",
       "\n",
       "  Serotype or Genotype Etiology Status                       Setting  \\\n",
       "0              unknown       Confirmed                   Hotel/motel   \n",
       "1                  NaN       Suspected  Restaurant - Sit-down dining   \n",
       "2                  NaN       Suspected                Other, specify   \n",
       "3                  NaN       Confirmed                    Restaurant   \n",
       "4                  NaN       Confirmed                           NaN   \n",
       "\n",
       "   Illnesses  Hospitalizations  ...  Deaths  Info on Deaths  Food Vehicle  \\\n",
       "0         21               0.0  ...     0.0            19.0           NaN   \n",
       "1          2               0.0  ...     0.0             2.0           NaN   \n",
       "2         50               0.0  ...     0.0            50.0           NaN   \n",
       "3         24               0.0  ...     0.0            24.0           NaN   \n",
       "4         16               0.0  ...     0.0            16.0           NaN   \n",
       "\n",
       "  Food Contaminated Ingredient IFSAC Category Water Exposure Water Type  \\\n",
       "0                          NaN            NaN            NaN        NaN   \n",
       "1                          NaN            NaN            NaN        NaN   \n",
       "2                          NaN            NaN            NaN        NaN   \n",
       "3                          NaN            NaN            NaN        NaN   \n",
       "4                          NaN            NaN            NaN        NaN   \n",
       "\n",
       "  Animal Type Animal Type Specify Water Status  \n",
       "0         NaN                 NaN          NaN  \n",
       "1         NaN                 NaN          NaN  \n",
       "2         NaN                 NaN          NaN  \n",
       "3         NaN                 NaN          NaN  \n",
       "4         NaN                 NaN          NaN  \n",
       "\n",
       "[5 rows x 21 columns]"
      ]
     },
     "execution_count": 79,
     "metadata": {},
     "output_type": "execute_result"
    }
   ],
   "source": [
    "df.head()"
   ]
  },
  {
   "cell_type": "markdown",
   "id": "0d78e08c",
   "metadata": {},
   "source": [
    "#### Quickly seeing how many columns that I have because some of them got cut off"
   ]
  },
  {
   "cell_type": "code",
   "execution_count": 80,
   "id": "2aea0936",
   "metadata": {},
   "outputs": [
    {
     "data": {
      "text/plain": [
       "Index(['Year', 'Month', 'State', 'Primary Mode', 'Etiology',\n",
       "       'Serotype or Genotype', 'Etiology Status', 'Setting', 'Illnesses',\n",
       "       'Hospitalizations', 'Info on Hospitalizations', 'Deaths',\n",
       "       'Info on Deaths', 'Food Vehicle', 'Food Contaminated Ingredient',\n",
       "       'IFSAC Category', 'Water Exposure', 'Water Type', 'Animal Type',\n",
       "       'Animal Type Specify', 'Water Status'],\n",
       "      dtype='object')"
      ]
     },
     "execution_count": 80,
     "metadata": {},
     "output_type": "execute_result"
    }
   ],
   "source": [
    "df.columns"
   ]
  },
  {
   "cell_type": "markdown",
   "id": "23c4d0ef",
   "metadata": {},
   "source": [
    "#### Checking how many of the columns have missing data (NaN) and how much data is present"
   ]
  },
  {
   "cell_type": "code",
   "execution_count": 81,
   "id": "e3ec7128",
   "metadata": {},
   "outputs": [
    {
     "name": "stdout",
     "output_type": "stream",
     "text": [
      "Year 1.0\n",
      "Month 1.0\n",
      "State 1.0\n",
      "Primary Mode 1.0\n",
      "Etiology 0.7459279432427275\n",
      "Serotype or Genotype 0.2484518378462766\n",
      "Etiology Status 0.7459279432427275\n",
      "Setting 0.8918628250273205\n",
      "Illnesses 1.0\n",
      "Hospitalizations 0.8638658086003227\n",
      "Info on Hospitalizations 0.6891533244288712\n",
      "Deaths 0.8759041787368385\n",
      "Info on Deaths 0.6912001942791722\n",
      "Food Vehicle 0.20503391212336727\n",
      "Food Contaminated Ingredient 0.044614824194695486\n",
      "IFSAC Category 0.20503391212336727\n",
      "Water Exposure 0.0470606602022585\n",
      "Water Type 0.04655761591701504\n",
      "Animal Type 0.008118093982549568\n",
      "Animal Type Specify 0.007112005412062655\n",
      "Water Status 0.0470606602022585\n"
     ]
    }
   ],
   "source": [
    "for col in df.columns.values:\n",
    "    print(col, len(df[df[col].notnull()])/(float(len(df))))"
   ]
  },
  {
   "cell_type": "markdown",
   "id": "4d4c2f8e",
   "metadata": {},
   "source": [
    "## Data parsing to eliminate columns with large amounts of missing data/entries"
   ]
  },
  {
   "cell_type": "code",
   "execution_count": 82,
   "id": "5e146b6e",
   "metadata": {},
   "outputs": [],
   "source": [
    "df = df.drop(['Serotype or Genotype','Food Vehicle','Food Contaminated Ingredient','IFSAC Category','Water Exposure','Water Type','Animal Type','Animal Type Specify','Water Status'], axis = 1)"
   ]
  },
  {
   "cell_type": "markdown",
   "id": "999212c0",
   "metadata": {},
   "source": [
    "#### Here I printed out the dataframe after parsing to get an idea for potential research questions or anything that looks interesting in the data"
   ]
  },
  {
   "cell_type": "code",
   "execution_count": 83,
   "id": "507bc71a",
   "metadata": {},
   "outputs": [
    {
     "name": "stdout",
     "output_type": "stream",
     "text": [
      "       Year  Month        State                 Primary Mode  \\\n",
      "0      2009      1    Minnesota             Person-to-person   \n",
      "1      2009      1    Minnesota                         Food   \n",
      "2      2009      2    Minnesota             Person-to-person   \n",
      "3      2009      1    Minnesota             Person-to-person   \n",
      "4      2009      1    Minnesota                         Food   \n",
      "...     ...    ...          ...                          ...   \n",
      "57644  2020      3    Wisconsin             Person-to-person   \n",
      "57645  2020     12   Multistate               Animal Contact   \n",
      "57646  2020     12   Multistate               Animal Contact   \n",
      "57647  2020     12  Mississippi  Indeterminate/Other/Unknown   \n",
      "57648  2020     12        Idaho               Animal Contact   \n",
      "\n",
      "                     Etiology Etiology Status  \\\n",
      "0      Norovirus Genogroup II       Confirmed   \n",
      "1                   Norovirus       Suspected   \n",
      "2                   Norovirus       Suspected   \n",
      "3           Norovirus unknown       Confirmed   \n",
      "4                   Norovirus       Confirmed   \n",
      "...                       ...             ...   \n",
      "57644       Norovirus unknown       Suspected   \n",
      "57645     Salmonella enterica       Confirmed   \n",
      "57646     Salmonella enterica       Confirmed   \n",
      "57647                     NaN             NaN   \n",
      "57648   Campylobacter unknown       Suspected   \n",
      "\n",
      "                                                 Setting  Illnesses  \\\n",
      "0                                            Hotel/motel         21   \n",
      "1                           Restaurant - Sit-down dining          2   \n",
      "2                                         Other, specify         50   \n",
      "3                                             Restaurant         24   \n",
      "4                                                    NaN         16   \n",
      "...                                                  ...        ...   \n",
      "57644  Long-term care/nursing home/assisted living fa...          5   \n",
      "57645                                                NaN        364   \n",
      "57646                                                NaN        287   \n",
      "57647                                     Other, specify         15   \n",
      "57648                                                NaN          2   \n",
      "\n",
      "       Hospitalizations  Info on Hospitalizations  Deaths  Info on Deaths  \n",
      "0                   0.0                      19.0     0.0            19.0  \n",
      "1                   0.0                       2.0     0.0             2.0  \n",
      "2                   0.0                       0.0     0.0            50.0  \n",
      "3                   0.0                      24.0     0.0            24.0  \n",
      "4                   0.0                       8.0     0.0            16.0  \n",
      "...                 ...                       ...     ...             ...  \n",
      "57644               0.0                       5.0     0.0             5.0  \n",
      "57645             109.0                     267.0     0.0           269.0  \n",
      "57646              58.0                     223.0     1.0           229.0  \n",
      "57647               0.0                      15.0     0.0            15.0  \n",
      "57648               0.0                       2.0     0.0             2.0  \n",
      "\n",
      "[57649 rows x 12 columns]\n"
     ]
    }
   ],
   "source": [
    "print(df)"
   ]
  },
  {
   "cell_type": "markdown",
   "id": "9943ae80",
   "metadata": {},
   "source": [
    "#### I then wanted to do a heat map for the quantitative variables in the dataset to explore the data further"
   ]
  },
  {
   "cell_type": "code",
   "execution_count": 84,
   "id": "f1b7fe4d",
   "metadata": {},
   "outputs": [
    {
     "data": {
      "image/png": "[encoded data removed]",
      "text/plain": [
       "<Figure size 1152x432 with 2 Axes>"
      ]
     },
     "metadata": {
      "needs_background": "light"
     },
     "output_type": "display_data"
    }
   ],
   "source": [
    "import seaborn as sns\n",
    "plt.figure(figsize=(16, 6))\n",
    "heatmap = sns.heatmap(df.corr(),annot=True)"
   ]
  },
  {
   "cell_type": "markdown",
   "id": "4d103fcb",
   "metadata": {},
   "source": [
    "#### The heat map showed that deaths and illnesses had a moderate pushing strong positive correlation which is pretty interesting because it makes sense. The map also showed that the information on deaths and the information on hospitalizations were very strongly positively correlated which makes me question why. I wondered why Deaths and information available on deaths weren't more correlated and realized that HIPPA regulates patient information so there may not be more information available to the CDC however the person was still reported dead, which could also be the reason that hospitalizations and info on hospitializations aren't as correlated. "
   ]
  },
  {
   "cell_type": "markdown",
   "id": "48336e3b",
   "metadata": {},
   "source": [
    "## At this point I wanted to group my data in a way that would be easier for me to understand so I created a dataset that seperated the total counts of Illnesses per state to better understand which states had the most Illnesses from 2009 - 2020"
   ]
  },
  {
   "cell_type": "markdown",
   "id": "95fbb3db",
   "metadata": {},
   "source": [
    "### Here I grouped the states with their respective illness counts "
   ]
  },
  {
   "cell_type": "code",
   "execution_count": 85,
   "id": "b8efa03f",
   "metadata": {},
   "outputs": [
    {
     "data": {
      "text/plain": [
       "State\n",
       "Alabama                                          558\n",
       "Alaska                                           217\n",
       "Arizona                                         1035\n",
       "Arkansas                                         164\n",
       "California                                      2844\n",
       "Colorado                                        1212\n",
       "Commonwealth of the Northern Mariana Islands       1\n",
       "Connecticut                                      879\n",
       "Delaware                                         134\n",
       "Florida                                         2962\n",
       "Georgia                                          623\n",
       "Guam                                              27\n",
       "Hawaii                                           583\n",
       "Idaho                                            220\n",
       "Illinois                                        3007\n",
       "Indiana                                          588\n",
       "Iowa                                             804\n",
       "Kansas                                           728\n",
       "Kentucky                                         745\n",
       "Louisiana                                        244\n",
       "Maine                                            924\n",
       "Maryland                                        1028\n",
       "Massachusetts                                   2115\n",
       "Michigan                                        2839\n",
       "Minnesota                                       2680\n",
       "Mississippi                                      202\n",
       "Missouri                                         574\n",
       "Montana                                          330\n",
       "Multistate                                       773\n",
       "Nebraska                                         370\n",
       "Nevada                                           551\n",
       "New Hampshire                                    783\n",
       "New Jersey                                       271\n",
       "New Mexico                                       360\n",
       "New York                                        3184\n",
       "North Carolina                                  1139\n",
       "North Dakota                                     297\n",
       "Ohio                                            3327\n",
       "Oklahoma                                          92\n",
       "Oregon                                          2332\n",
       "Pennsylvania                                    2786\n",
       "Puerto Rico                                      216\n",
       "Republic of Palau                                  3\n",
       "Republic of the Marshall Islands                   1\n",
       "Rhode Island                                     728\n",
       "South Carolina                                  1027\n",
       "South Dakota                                      55\n",
       "Tennessee                                        953\n",
       "Texas                                           1425\n",
       "US Virgin Islands                                  2\n",
       "Utah                                             491\n",
       "Vermont                                          268\n",
       "Virginia                                        2333\n",
       "Washington                                      1218\n",
       "Washington DC                                     99\n",
       "West Virginia                                    619\n",
       "Wisconsin                                       3395\n",
       "Wyoming                                          284\n",
       "Name: Illnesses, dtype: int64"
      ]
     },
     "execution_count": 85,
     "metadata": {},
     "output_type": "execute_result"
    }
   ],
   "source": [
    "state = df.groupby('State')['Illnesses'].count()\n",
    "state.head(70)"
   ]
  },
  {
   "cell_type": "markdown",
   "id": "66c3b18d",
   "metadata": {},
   "source": [
    "### Next I went ahead and ranked the counts from greatest to least by state and found that in the 11 years Wisconsin had the highest count of Foodborne Illnesses which is something I wasn't expecting."
   ]
  },
  {
   "cell_type": "code",
   "execution_count": 86,
   "id": "9645a0a9",
   "metadata": {},
   "outputs": [
    {
     "name": "stdout",
     "output_type": "stream",
     "text": [
      "                                           State  Count\n",
      "56                                     Wisconsin   3395\n",
      "37                                          Ohio   3327\n",
      "34                                      New York   3184\n",
      "14                                      Illinois   3007\n",
      "9                                        Florida   2962\n",
      "4                                     California   2844\n",
      "23                                      Michigan   2839\n",
      "40                                  Pennsylvania   2786\n",
      "24                                     Minnesota   2680\n",
      "52                                      Virginia   2333\n",
      "39                                        Oregon   2332\n",
      "22                                 Massachusetts   2115\n",
      "48                                         Texas   1425\n",
      "53                                    Washington   1218\n",
      "5                                       Colorado   1212\n",
      "35                                North Carolina   1139\n",
      "2                                        Arizona   1035\n",
      "21                                      Maryland   1028\n",
      "45                                South Carolina   1027\n",
      "47                                     Tennessee    953\n",
      "20                                         Maine    924\n",
      "7                                    Connecticut    879\n",
      "16                                          Iowa    804\n",
      "31                                 New Hampshire    783\n",
      "28                                    Multistate    773\n",
      "18                                      Kentucky    745\n",
      "17                                        Kansas    728\n",
      "44                                  Rhode Island    728\n",
      "10                                       Georgia    623\n",
      "55                                 West Virginia    619\n",
      "15                                       Indiana    588\n",
      "12                                        Hawaii    583\n",
      "26                                      Missouri    574\n",
      "0                                        Alabama    558\n",
      "30                                        Nevada    551\n",
      "50                                          Utah    491\n",
      "29                                      Nebraska    370\n",
      "33                                    New Mexico    360\n",
      "27                                       Montana    330\n",
      "36                                  North Dakota    297\n",
      "57                                       Wyoming    284\n",
      "32                                    New Jersey    271\n",
      "51                                       Vermont    268\n",
      "19                                     Louisiana    244\n",
      "13                                         Idaho    220\n",
      "1                                         Alaska    217\n",
      "41                                   Puerto Rico    216\n",
      "25                                   Mississippi    202\n",
      "3                                       Arkansas    164\n",
      "8                                       Delaware    134\n",
      "54                                 Washington DC     99\n",
      "38                                      Oklahoma     92\n",
      "46                                  South Dakota     55\n",
      "11                                          Guam     27\n",
      "42                             Republic of Palau      3\n",
      "49                             US Virgin Islands      2\n",
      "43              Republic of the Marshall Islands      1\n",
      "6   Commonwealth of the Northern Mariana Islands      1\n"
     ]
    }
   ],
   "source": [
    "#Sort the data to find the top 5 states who have the most reports of Illness\n",
    "state_ranked = df.groupby(['State'])['Illnesses'].count().reset_index(\n",
    "  name='Count').sort_values(['Count'], ascending=False)\n",
    "print(state_ranked)"
   ]
  },
  {
   "cell_type": "markdown",
   "id": "63812e0f",
   "metadata": {},
   "source": [
    "### I went ahead and broke down the data to just the top 5 states"
   ]
  },
  {
   "cell_type": "code",
   "execution_count": 87,
   "id": "fc43ee3f",
   "metadata": {},
   "outputs": [
    {
     "data": {
      "text/html": [
       "<div>\n",
       "<style scoped>\n",
       "    .dataframe tbody tr th:only-of-type {\n",
       "        vertical-align: middle;\n",
       "    }\n",
       "\n",
       "    .dataframe tbody tr th {\n",
       "        vertical-align: top;\n",
       "    }\n",
       "\n",
       "    .dataframe thead th {\n",
       "        text-align: right;\n",
       "    }\n",
       "</style>\n",
       "<table border=\"1\" class=\"dataframe\">\n",
       "  <thead>\n",
       "    <tr style=\"text-align: right;\">\n",
       "      <th></th>\n",
       "      <th>State</th>\n",
       "      <th>Count</th>\n",
       "    </tr>\n",
       "  </thead>\n",
       "  <tbody>\n",
       "    <tr>\n",
       "      <th>56</th>\n",
       "      <td>Wisconsin</td>\n",
       "      <td>3395</td>\n",
       "    </tr>\n",
       "    <tr>\n",
       "      <th>37</th>\n",
       "      <td>Ohio</td>\n",
       "      <td>3327</td>\n",
       "    </tr>\n",
       "    <tr>\n",
       "      <th>34</th>\n",
       "      <td>New York</td>\n",
       "      <td>3184</td>\n",
       "    </tr>\n",
       "    <tr>\n",
       "      <th>14</th>\n",
       "      <td>Illinois</td>\n",
       "      <td>3007</td>\n",
       "    </tr>\n",
       "    <tr>\n",
       "      <th>9</th>\n",
       "      <td>Florida</td>\n",
       "      <td>2962</td>\n",
       "    </tr>\n",
       "  </tbody>\n",
       "</table>\n",
       "</div>"
      ],
      "text/plain": [
       "        State  Count\n",
       "56  Wisconsin   3395\n",
       "37       Ohio   3327\n",
       "34   New York   3184\n",
       "14   Illinois   3007\n",
       "9     Florida   2962"
      ]
     },
     "execution_count": 87,
     "metadata": {},
     "output_type": "execute_result"
    }
   ],
   "source": [
    "state_ranked.head()"
   ]
  },
  {
   "cell_type": "markdown",
   "id": "8f5d3573",
   "metadata": {},
   "source": [
    "### I then proceeded to do a bar graph to visualize the counts"
   ]
  },
  {
   "cell_type": "code",
   "execution_count": 88,
   "id": "4768a8a5",
   "metadata": {},
   "outputs": [
    {
     "data": {
      "image/png": "[encoded data removed]",
      "text/plain": [
       "<Figure size 432x288 with 1 Axes>"
      ]
     },
     "metadata": {
      "needs_background": "light"
     },
     "output_type": "display_data"
    }
   ],
   "source": [
    "states_top5 = state_ranked.head().plot.bar(title=\"Top 5 States with the Highest Illness counts from 2009 - 2020\", x='State', y='Count', ylabel='Illness count')"
   ]
  },
  {
   "cell_type": "markdown",
   "id": "a89fd664",
   "metadata": {},
   "source": [
    "### I then wanted to pull out the most recent year in the data to compare it to the overall data. I pulled out every entry in 2020 and began analysis."
   ]
  },
  {
   "cell_type": "markdown",
   "id": "22359ce9",
   "metadata": {},
   "source": [
    "### I sorted out the entries from 2020 and put them into a dataset called year2020"
   ]
  },
  {
   "cell_type": "code",
   "execution_count": 89,
   "id": "78ca9dc6",
   "metadata": {},
   "outputs": [
    {
     "name": "stdout",
     "output_type": "stream",
     "text": [
      "       Year  Month        State                 Primary Mode  \\\n",
      "53558  2020      1  Mississippi             Person-to-person   \n",
      "53584  2020      1    Wisconsin             Person-to-person   \n",
      "53591  2020      1     Nebraska             Person-to-person   \n",
      "53592  2020      1     New York                         Food   \n",
      "53593  2020      1   New Mexico             Person-to-person   \n",
      "...     ...    ...          ...                          ...   \n",
      "57644  2020      3    Wisconsin             Person-to-person   \n",
      "57645  2020     12   Multistate               Animal Contact   \n",
      "57646  2020     12   Multistate               Animal Contact   \n",
      "57647  2020     12  Mississippi  Indeterminate/Other/Unknown   \n",
      "57648  2020     12        Idaho               Animal Contact   \n",
      "\n",
      "                      Etiology Etiology Status  \\\n",
      "53558                      NaN             NaN   \n",
      "53584   Norovirus Genogroup II       Confirmed   \n",
      "53591   Norovirus Genogroup II       Confirmed   \n",
      "53592  Clostridium perfringens       Suspected   \n",
      "53593   Norovirus Genogroup II       Confirmed   \n",
      "...                        ...             ...   \n",
      "57644        Norovirus unknown       Suspected   \n",
      "57645      Salmonella enterica       Confirmed   \n",
      "57646      Salmonella enterica       Confirmed   \n",
      "57647                      NaN             NaN   \n",
      "57648    Campylobacter unknown       Suspected   \n",
      "\n",
      "                                                 Setting  Illnesses  \\\n",
      "53558  Long-term care/nursing home/assisted living fa...         18   \n",
      "53584                          Other healthcare facility          6   \n",
      "53591  Long-term care/nursing home/assisted living fa...         20   \n",
      "53592  Caterer (food prepared off-site from where ser...          7   \n",
      "53593  Long-term care/nursing home/assisted living fa...         18   \n",
      "...                                                  ...        ...   \n",
      "57644  Long-term care/nursing home/assisted living fa...          5   \n",
      "57645                                                NaN        364   \n",
      "57646                                                NaN        287   \n",
      "57647                                     Other, specify         15   \n",
      "57648                                                NaN          2   \n",
      "\n",
      "       Hospitalizations  Info on Hospitalizations  Deaths  Info on Deaths  \n",
      "53558               0.0                      18.0     0.0            18.0  \n",
      "53584               0.0                       6.0     0.0             6.0  \n",
      "53591               1.0                      20.0     0.0            20.0  \n",
      "53592               0.0                       7.0     0.0             7.0  \n",
      "53593               0.0                      18.0     0.0            18.0  \n",
      "...                 ...                       ...     ...             ...  \n",
      "57644               0.0                       5.0     0.0             5.0  \n",
      "57645             109.0                     267.0     0.0           269.0  \n",
      "57646              58.0                     223.0     1.0           229.0  \n",
      "57647               0.0                      15.0     0.0            15.0  \n",
      "57648               0.0                       2.0     0.0             2.0  \n",
      "\n",
      "[1518 rows x 12 columns]\n"
     ]
    }
   ],
   "source": [
    "year2020 = df[df[\"Year\"] == 2020]\n",
    "print(year2020)"
   ]
  },
  {
   "cell_type": "markdown",
   "id": "eff8d261",
   "metadata": {},
   "source": [
    "### I then grouped the entries by state and Illness count "
   ]
  },
  {
   "cell_type": "code",
   "execution_count": 90,
   "id": "0fb49a9a",
   "metadata": {},
   "outputs": [
    {
     "data": {
      "text/plain": [
       "State\n",
       "Alabama            21\n",
       "Alaska              1\n",
       "Arizona            11\n",
       "California         16\n",
       "Colorado           29\n",
       "Connecticut        35\n",
       "Florida            37\n",
       "Georgia             7\n",
       "Hawaii              8\n",
       "Idaho              21\n",
       "Illinois          126\n",
       "Indiana            27\n",
       "Iowa               26\n",
       "Kansas              3\n",
       "Kentucky           30\n",
       "Louisiana           6\n",
       "Maine              26\n",
       "Maryland            5\n",
       "Massachusetts      94\n",
       "Michigan           71\n",
       "Minnesota         134\n",
       "Mississippi         3\n",
       "Missouri            7\n",
       "Montana             2\n",
       "Multistate         65\n",
       "Nebraska           23\n",
       "Nevada              9\n",
       "New Hampshire      18\n",
       "New Mexico         11\n",
       "New York            7\n",
       "North Carolina     48\n",
       "North Dakota        8\n",
       "Ohio               77\n",
       "Oregon             44\n",
       "Pennsylvania       53\n",
       "Puerto Rico        20\n",
       "Rhode Island       60\n",
       "South Carolina     24\n",
       "Tennessee          17\n",
       "Texas              71\n",
       "Utah               17\n",
       "Vermont             4\n",
       "Virginia           16\n",
       "Washington         20\n",
       "Wisconsin         156\n",
       "Wyoming             4\n",
       "Name: Illnesses, dtype: int64"
      ]
     },
     "execution_count": 90,
     "metadata": {},
     "output_type": "execute_result"
    }
   ],
   "source": [
    "year = year2020.groupby('State')['Illnesses'].count()\n",
    "year.head(70)"
   ]
  },
  {
   "cell_type": "markdown",
   "id": "35fb5f33",
   "metadata": {},
   "source": [
    "### I ranked the data from greatest to least number of illness counts"
   ]
  },
  {
   "cell_type": "code",
   "execution_count": 91,
   "id": "8d55e18d",
   "metadata": {},
   "outputs": [
    {
     "name": "stdout",
     "output_type": "stream",
     "text": [
      "             State  Count\n",
      "44       Wisconsin    156\n",
      "20       Minnesota    134\n",
      "10        Illinois    126\n",
      "18   Massachusetts     94\n",
      "32            Ohio     77\n",
      "19        Michigan     71\n",
      "39           Texas     71\n",
      "24      Multistate     65\n",
      "36    Rhode Island     60\n",
      "34    Pennsylvania     53\n",
      "30  North Carolina     48\n",
      "33          Oregon     44\n",
      "6          Florida     37\n",
      "5      Connecticut     35\n",
      "14        Kentucky     30\n",
      "4         Colorado     29\n",
      "11         Indiana     27\n",
      "12            Iowa     26\n",
      "16           Maine     26\n",
      "37  South Carolina     24\n",
      "25        Nebraska     23\n",
      "0          Alabama     21\n",
      "9            Idaho     21\n",
      "43      Washington     20\n",
      "35     Puerto Rico     20\n",
      "27   New Hampshire     18\n",
      "40            Utah     17\n",
      "38       Tennessee     17\n",
      "3       California     16\n",
      "42        Virginia     16\n",
      "2          Arizona     11\n",
      "28      New Mexico     11\n",
      "26          Nevada      9\n",
      "8           Hawaii      8\n",
      "31    North Dakota      8\n",
      "7          Georgia      7\n",
      "29        New York      7\n",
      "22        Missouri      7\n",
      "15       Louisiana      6\n",
      "17        Maryland      5\n",
      "41         Vermont      4\n",
      "45         Wyoming      4\n",
      "21     Mississippi      3\n",
      "13          Kansas      3\n",
      "23         Montana      2\n",
      "1           Alaska      1\n"
     ]
    }
   ],
   "source": [
    "#Sort the data to find the top 5 states with the most reports of illness in 2020\n",
    "year_ranked = year2020.groupby(['State'])['Illnesses'].count().reset_index(\n",
    "  name='Count').sort_values(['Count'], ascending=False)\n",
    "print(year_ranked)"
   ]
  },
  {
   "cell_type": "markdown",
   "id": "6480de46",
   "metadata": {},
   "source": [
    "### I printed out the top 5 states in a way that's much more visualy pleasing"
   ]
  },
  {
   "cell_type": "code",
   "execution_count": 92,
   "id": "7cf09fda",
   "metadata": {},
   "outputs": [
    {
     "data": {
      "text/html": [
       "<div>\n",
       "<style scoped>\n",
       "    .dataframe tbody tr th:only-of-type {\n",
       "        vertical-align: middle;\n",
       "    }\n",
       "\n",
       "    .dataframe tbody tr th {\n",
       "        vertical-align: top;\n",
       "    }\n",
       "\n",
       "    .dataframe thead th {\n",
       "        text-align: right;\n",
       "    }\n",
       "</style>\n",
       "<table border=\"1\" class=\"dataframe\">\n",
       "  <thead>\n",
       "    <tr style=\"text-align: right;\">\n",
       "      <th></th>\n",
       "      <th>State</th>\n",
       "      <th>Count</th>\n",
       "    </tr>\n",
       "  </thead>\n",
       "  <tbody>\n",
       "    <tr>\n",
       "      <th>44</th>\n",
       "      <td>Wisconsin</td>\n",
       "      <td>156</td>\n",
       "    </tr>\n",
       "    <tr>\n",
       "      <th>20</th>\n",
       "      <td>Minnesota</td>\n",
       "      <td>134</td>\n",
       "    </tr>\n",
       "    <tr>\n",
       "      <th>10</th>\n",
       "      <td>Illinois</td>\n",
       "      <td>126</td>\n",
       "    </tr>\n",
       "    <tr>\n",
       "      <th>18</th>\n",
       "      <td>Massachusetts</td>\n",
       "      <td>94</td>\n",
       "    </tr>\n",
       "    <tr>\n",
       "      <th>32</th>\n",
       "      <td>Ohio</td>\n",
       "      <td>77</td>\n",
       "    </tr>\n",
       "  </tbody>\n",
       "</table>\n",
       "</div>"
      ],
      "text/plain": [
       "            State  Count\n",
       "44      Wisconsin    156\n",
       "20      Minnesota    134\n",
       "10       Illinois    126\n",
       "18  Massachusetts     94\n",
       "32           Ohio     77"
      ]
     },
     "execution_count": 92,
     "metadata": {},
     "output_type": "execute_result"
    }
   ],
   "source": [
    "year_ranked.head()"
   ]
  },
  {
   "cell_type": "markdown",
   "id": "0eace815",
   "metadata": {},
   "source": [
    "### I created another bar graph to visualize the data from 2020"
   ]
  },
  {
   "cell_type": "code",
   "execution_count": 93,
   "id": "7094190d",
   "metadata": {},
   "outputs": [
    {
     "data": {
      "image/png": "[encoded data removed]",
      "text/plain": [
       "<Figure size 432x288 with 1 Axes>"
      ]
     },
     "metadata": {
      "needs_background": "light"
     },
     "output_type": "display_data"
    }
   ],
   "source": [
    "year_top5 = year_ranked.head().plot.bar(title=\"Top 5 States with the Highest Illness counts in 2020\", x='State', y='Count', ylabel='Illness count')"
   ]
  },
  {
   "cell_type": "markdown",
   "id": "257fa1ae",
   "metadata": {},
   "source": [
    "### I was able to find that Wisconsin was number 1 on both graphs which is definetly a pretty interesting insight. In fact, I noticed that 3 of the same states are in the top 5 for 2020, Wisconsin, Ohio, and Illinois."
   ]
  },
  {
   "cell_type": "markdown",
   "id": "4e872418",
   "metadata": {},
   "source": [
    "## Next, I wanted to predict the number of Illnesses using a multi-feature linear regression"
   ]
  },
  {
   "cell_type": "markdown",
   "id": "3ea73942",
   "metadata": {},
   "source": [
    "#### In order to start the linear regression I need to drop rows that contain missing values (NaN) because the linear regression won't accept NaN values "
   ]
  },
  {
   "cell_type": "code",
   "execution_count": 94,
   "id": "6c138f2f",
   "metadata": {},
   "outputs": [
    {
     "name": "stdout",
     "output_type": "stream",
     "text": [
      "       Year  Month       State      Primary Mode                 Etiology  \\\n",
      "0      2009      1   Minnesota  Person-to-person   Norovirus Genogroup II   \n",
      "1      2009      1   Minnesota              Food                Norovirus   \n",
      "2      2009      2   Minnesota  Person-to-person                Norovirus   \n",
      "3      2009      1   Minnesota  Person-to-person        Norovirus unknown   \n",
      "5      2009      1   Minnesota              Food                Norovirus   \n",
      "...     ...    ...         ...               ...                      ...   \n",
      "57582  2020      8  California              Food      Salmonella enterica   \n",
      "57583  2020     10  Multistate              Food      Salmonella enterica   \n",
      "57619  2019      7   Louisiana              Food  Cyclospora cayetanensis   \n",
      "57620  2019     12       Texas              Food    Clostridium botulinum   \n",
      "57644  2020      3   Wisconsin  Person-to-person        Norovirus unknown   \n",
      "\n",
      "      Etiology Status                                            Setting  \\\n",
      "0           Confirmed                                        Hotel/motel   \n",
      "1           Suspected                       Restaurant - Sit-down dining   \n",
      "2           Suspected                                     Other, specify   \n",
      "3           Confirmed                                         Restaurant   \n",
      "5           Suspected                       Restaurant - Sit-down dining   \n",
      "...               ...                                                ...   \n",
      "57582       Confirmed                       Restaurant - Sit-down dining   \n",
      "57583       Confirmed                                            Unknown   \n",
      "57619       Confirmed                                            Unknown   \n",
      "57620       Confirmed                                              Other   \n",
      "57644       Suspected  Long-term care/nursing home/assisted living fa...   \n",
      "\n",
      "       Illnesses  Hospitalizations  Info on Hospitalizations  Deaths  \\\n",
      "0             21               0.0                      19.0     0.0   \n",
      "1              2               0.0                       2.0     0.0   \n",
      "2             50               0.0                       0.0     0.0   \n",
      "3             24               0.0                      24.0     0.0   \n",
      "5              5               0.0                       5.0     0.0   \n",
      "...          ...               ...                       ...     ...   \n",
      "57582         14               3.0                      14.0     0.0   \n",
      "57583          8               6.0                       7.0     1.0   \n",
      "57619          8               2.0                       8.0     0.0   \n",
      "57620          3               3.0                       3.0     0.0   \n",
      "57644          5               0.0                       5.0     0.0   \n",
      "\n",
      "       Info on Deaths  \n",
      "0                19.0  \n",
      "1                 2.0  \n",
      "2                50.0  \n",
      "3                24.0  \n",
      "5                 5.0  \n",
      "...               ...  \n",
      "57582            14.0  \n",
      "57583             7.0  \n",
      "57619             8.0  \n",
      "57620             3.0  \n",
      "57644             5.0  \n",
      "\n",
      "[26909 rows x 12 columns]\n"
     ]
    },
    {
     "data": {
      "text/plain": [
       "26909"
      ]
     },
     "execution_count": 94,
     "metadata": {},
     "output_type": "execute_result"
    }
   ],
   "source": [
    "newdf = df.dropna(how='any')\n",
    "print(newdf)\n",
    "len(newdf)"
   ]
  },
  {
   "cell_type": "code",
   "execution_count": 95,
   "id": "91ee10a5",
   "metadata": {},
   "outputs": [],
   "source": [
    "#this is my condensed data frame I uploaded to the repository \n",
    "\n",
    "newdf.to_csv('final_outbreak_data.csv')"
   ]
  },
  {
   "cell_type": "markdown",
   "id": "51dbb3a1",
   "metadata": {},
   "source": [
    "### After removing columns with NaN values we are left with 26,909 complete entries which is significant enough to train a predictive model"
   ]
  },
  {
   "cell_type": "code",
   "execution_count": 96,
   "id": "f2def7fb",
   "metadata": {},
   "outputs": [],
   "source": [
    "x = newdf[['Deaths','Info on Deaths','Hospitalizations','Info on Hospitalizations']]\n",
    "y = newdf['Illnesses']"
   ]
  },
  {
   "cell_type": "code",
   "execution_count": 97,
   "id": "4cab4a39",
   "metadata": {},
   "outputs": [],
   "source": [
    "from sklearn.metrics import accuracy_score\n",
    "\n",
    "def train_linear_regression(x, y):\n",
    "    \n",
    "    #Get number of examples\n",
    "    N_EXAMPLES = len(y)\n",
    "    TEST_SIZE = round(0.25 * N_EXAMPLES)\n",
    "    \n",
    "    # Split the data into training/testing sets\n",
    "    x_train = x[:-TEST_SIZE]\n",
    "    x_test = x[-TEST_SIZE:]\n",
    "\n",
    "    # Split the targets into training/testing sets\n",
    "    y_train = y[:-TEST_SIZE]\n",
    "    y_test = y[-TEST_SIZE:]\n",
    "\n",
    "    # Create linear regression object\n",
    "    regr = linear_model.LinearRegression()\n",
    "\n",
    "    # Train the model using the training sets\n",
    "    regr.fit(x_train, y_train)\n",
    "\n",
    "    # Make predictions using the testing set\n",
    "    y_pred = regr.predict(x_test)\n",
    "\n",
    "    # The coefficients\n",
    "    print(\"Coefficients: \\n\", regr.coef_)\n",
    "    # The mean squared error\n",
    "    print(\"Mean squared error: %.2f\" % mean_squared_error(y_test, y_pred))\n",
    "    # The coefficient of determination: 1 is perfect prediction\n",
    "    print(\"Coefficient of determination: %.2f\" % r2_score(y_test, y_pred))\n",
    "\n",
    "    "
   ]
  },
  {
   "cell_type": "code",
   "execution_count": 98,
   "id": "3c8cfd27",
   "metadata": {},
   "outputs": [
    {
     "name": "stdout",
     "output_type": "stream",
     "text": [
      "Coefficients: \n",
      " [0.0673254  0.8963811  0.10526228 0.07742061]\n",
      "Mean squared error: 231.92\n",
      "Coefficient of determination: 0.82\n"
     ]
    }
   ],
   "source": [
    "train_linear_regression(x, y)"
   ]
  },
  {
   "cell_type": "markdown",
   "id": "1a036f0b",
   "metadata": {},
   "source": [
    "## Next I want to see in what ways I can expand the linear regression, so a quick search showed me that if I encode my categorical variables that I can incoorporate them into the linear regression as additional features which could increase the reliability/accuracy of the model"
   ]
  },
  {
   "cell_type": "markdown",
   "id": "c5eb77de",
   "metadata": {},
   "source": [
    "###  To do this I started by getting a basic idea of all the sub categories and counts for each categorical variable in the dataset"
   ]
  },
  {
   "cell_type": "code",
   "execution_count": 99,
   "id": "6ac6b6ae",
   "metadata": {},
   "outputs": [
    {
     "data": {
      "text/plain": [
       "Person-to-person                                     16916\n",
       "Food                                                  6686\n",
       "Indeterminate/Other/Unknown                           2211\n",
       "Water                                                 1006\n",
       "Environmental contamination other than food/water       70\n",
       "Animal Contact                                          20\n",
       "Name: Primary Mode, dtype: int64"
      ]
     },
     "execution_count": 99,
     "metadata": {},
     "output_type": "execute_result"
    }
   ],
   "source": [
    "newdf['Primary Mode'].value_counts()"
   ]
  },
  {
   "cell_type": "code",
   "execution_count": 100,
   "id": "a6da4ba0",
   "metadata": {},
   "outputs": [
    {
     "data": {
      "text/plain": [
       "Long-term care/nursing home/assisted living facility                                                          12372\n",
       "Restaurant - Sit-down dining                                                                                   2733\n",
       "School/college/university                                                                                      1989\n",
       "Child day care                                                                                                 1633\n",
       "Private home/residence                                                                                         1513\n",
       "                                                                                                              ...  \n",
       "Private home/residence; Grocery store; School/college/university; Other; Unknown                                  1\n",
       "Restaurant - Sit-down dining; Grocery store; Other                                                                1\n",
       "Private home/residence; Other; Unknown                                                                            1\n",
       "Restaurant - other or unknown type; Caterer (food prepared off-site from where served); Religious facility        1\n",
       "Beach - Public; Private Residence                                                                                 1\n",
       "Name: Setting, Length: 231, dtype: int64"
      ]
     },
     "execution_count": 100,
     "metadata": {},
     "output_type": "execute_result"
    }
   ],
   "source": [
    "newdf['Setting'].value_counts()"
   ]
  },
  {
   "cell_type": "code",
   "execution_count": 101,
   "id": "4c3f8499",
   "metadata": {},
   "outputs": [
    {
     "data": {
      "text/plain": [
       "Confirmed                                                                                                                                        13686\n",
       "Suspected                                                                                                                                        11894\n",
       "Confirmed; Confirmed                                                                                                                               441\n",
       "Confirmed; Suspected                                                                                                                               315\n",
       "Suspected; Suspected                                                                                                                               303\n",
       "Suspected; Confirmed                                                                                                                                85\n",
       "Suspected; Suspected; Suspected                                                                                                                     32\n",
       "Confirmed; Confirmed; Confirmed                                                                                                                     29\n",
       "Confirmed; Suspected; Suspected                                                                                                                     25\n",
       "Confirmed; Confirmed; Suspected                                                                                                                     23\n",
       "Confirmed; Confirmed; Confirmed; Confirmed                                                                                                          11\n",
       "Confirmed; Suspected; Confirmed                                                                                                                      9\n",
       "Suspected; Confirmed; Confirmed                                                                                                                      6\n",
       "Suspected; Suspected; Suspected; Suspected                                                                                                           5\n",
       "Confirmed; Confirmed; Confirmed; Confirmed; Confirmed                                                                                                5\n",
       "Suspected; Suspected; Confirmed                                                                                                                      4\n",
       "Suspected; Confirmed; Suspected                                                                                                                      4\n",
       "Confirmed; Confirmed; Suspected; Suspected                                                                                                           4\n",
       "Confirmed; Suspected; Confirmed; Confirmed                                                                                                           2\n",
       "Confirmed; Suspected; Suspected; Confirmed                                                                                                           2\n",
       "Confirmed; Confirmed; Suspected; Suspected; Suspected                                                                                                2\n",
       "Confirmed; Confirmed; Confirmed; Confirmed; Confirmed; Confirmed                                                                                     2\n",
       "Confirmed; Confirmed; Confirmed; Suspected; Confirmed                                                                                                1\n",
       "Suspected; Confirmed; Suspected; Suspected; Suspected; Suspected; Confirmed; Confirmed                                                               1\n",
       "Confirmed; Confirmed; Confirmed; Suspected; Suspected; Suspected; Suspected; Suspected; Suspected; Suspected                                         1\n",
       "Confirmed; Suspected; Confirmed; Suspected; Suspected; Suspected; Confirmed                                                                          1\n",
       "Confirmed; Confirmed; Confirmed; Suspected; Confirmed; Suspected                                                                                     1\n",
       "Suspected; Suspected; Confirmed; Confirmed; Confirmed                                                                                                1\n",
       "Suspected; Confirmed; Suspected; Suspected                                                                                                           1\n",
       "Confirmed; Suspected; Suspected; Confirmed; Suspected; Suspected                                                                                     1\n",
       "Confirmed; Confirmed; Confirmed; Suspected                                                                                                           1\n",
       "Suspected; Confirmed; Suspected; Confirmed; Confirmed; Confirmed                                                                                     1\n",
       "Confirmed; Suspected; Suspected; Suspected                                                                                                           1\n",
       "Confirmed; Suspected; Confirmed; Confirmed; Confirmed; Confirmed; Confirmed                                                                          1\n",
       "Confirmed; Suspected; Suspected; Confirmed; Suspected                                                                                                1\n",
       "Confirmed; Suspected; Confirmed; Suspected; Suspected                                                                                                1\n",
       "Suspected; Suspected; Confirmed; Suspected                                                                                                           1\n",
       "Confirmed; Confirmed; Suspected; Confirmed                                                                                                           1\n",
       "Confirmed; Confirmed; Confirmed; Confirmed; Confirmed; Suspected; Suspected; Suspected; Suspected; Suspected; Suspected; Suspected; Suspected        1\n",
       "Confirmed; Suspected; Confirmed; Suspected                                                                                                           1\n",
       "Confirmed; Confirmed; Confirmed; Confirmed; Suspected                                                                                                1\n",
       "Suspected; Confirmed; Suspected; Confirmed; Confirmed; Suspected; Suspected; Suspected                                                               1\n",
       "Name: Etiology Status, dtype: int64"
      ]
     },
     "execution_count": 101,
     "metadata": {},
     "output_type": "execute_result"
    }
   ],
   "source": [
    "newdf['Etiology Status'].value_counts()"
   ]
  },
  {
   "cell_type": "code",
   "execution_count": 102,
   "id": "9a9e2d61",
   "metadata": {},
   "outputs": [
    {
     "data": {
      "text/plain": [
       "Norovirus Genogroup II                                                   6750\n",
       "Norovirus                                                                5758\n",
       "Norovirus unknown                                                        5007\n",
       "Salmonella enterica                                                      1706\n",
       "Norovirus Genogroup I                                                    1181\n",
       "                                                                         ... \n",
       "Salmonella enterica; Cryptosporidium unknown; Clostridium perfringens       1\n",
       "Campylobacter unknown; Campylobacter unknown                                1\n",
       "Cryptosporidium unknown; Norovirus Genogroup II                             1\n",
       "Cryptosporidium hominis; Cryptosporidium other                              1\n",
       "Bacillus cereus; Norovirus                                                  1\n",
       "Name: Etiology, Length: 491, dtype: int64"
      ]
     },
     "execution_count": 102,
     "metadata": {},
     "output_type": "execute_result"
    }
   ],
   "source": [
    "newdf['Etiology'].value_counts()"
   ]
  },
  {
   "cell_type": "markdown",
   "id": "4f55ca65",
   "metadata": {},
   "source": [
    "### After I got value counts I noticed that the transmission setting and primary mode of transmission could potentially be interesting to examine because there could be some interesting correlation between the two and I proceeded to create a two way table to examine the relationship closer before I encode the categorical variables "
   ]
  },
  {
   "cell_type": "code",
   "execution_count": 103,
   "id": "02fe1f2c",
   "metadata": {},
   "outputs": [
    {
     "data": {
      "text/html": [
       "<div>\n",
       "<style scoped>\n",
       "    .dataframe tbody tr th:only-of-type {\n",
       "        vertical-align: middle;\n",
       "    }\n",
       "\n",
       "    .dataframe tbody tr th {\n",
       "        vertical-align: top;\n",
       "    }\n",
       "\n",
       "    .dataframe thead th {\n",
       "        text-align: right;\n",
       "    }\n",
       "</style>\n",
       "<table border=\"1\" class=\"dataframe\">\n",
       "  <thead>\n",
       "    <tr style=\"text-align: right;\">\n",
       "      <th>Setting</th>\n",
       "      <th>Apartment/Condo</th>\n",
       "      <th>Assisted Living/Rehab</th>\n",
       "      <th>Banquet Facility (food prepared and served on-site)</th>\n",
       "      <th>Banquet Facility (food prepared and served on-site); Camp; Hotel/motel</th>\n",
       "      <th>Banquet Facility (food prepared and served on-site); Caterer (food prepared off-site from where served)</th>\n",
       "      <th>Banquet Facility (food prepared and served on-site); Caterer (food prepared off-site from where served); Fair, festival, other temp or mobile services</th>\n",
       "      <th>Banquet Facility (food prepared and served on-site); Caterer (food prepared off-site from where served); Religious facility</th>\n",
       "      <th>Banquet Facility (food prepared and served on-site); Other</th>\n",
       "      <th>Banquet Facility (food prepared and served on-site); Religious facility</th>\n",
       "      <th>Banquet Facility (food prepared and served on-site); Restaurant - Buffet</th>\n",
       "      <th>...</th>\n",
       "      <th>School/College/University</th>\n",
       "      <th>School/college/university</th>\n",
       "      <th>School/college/university; Camp</th>\n",
       "      <th>School/college/university; Other</th>\n",
       "      <th>School/college/university; Prison/jail</th>\n",
       "      <th>Shelter/group home/transitional housing</th>\n",
       "      <th>Ship/boat</th>\n",
       "      <th>Subdivision/Neighborhood</th>\n",
       "      <th>Trailer Park</th>\n",
       "      <th>Unknown</th>\n",
       "    </tr>\n",
       "    <tr>\n",
       "      <th>Primary Mode</th>\n",
       "      <th></th>\n",
       "      <th></th>\n",
       "      <th></th>\n",
       "      <th></th>\n",
       "      <th></th>\n",
       "      <th></th>\n",
       "      <th></th>\n",
       "      <th></th>\n",
       "      <th></th>\n",
       "      <th></th>\n",
       "      <th></th>\n",
       "      <th></th>\n",
       "      <th></th>\n",
       "      <th></th>\n",
       "      <th></th>\n",
       "      <th></th>\n",
       "      <th></th>\n",
       "      <th></th>\n",
       "      <th></th>\n",
       "      <th></th>\n",
       "      <th></th>\n",
       "    </tr>\n",
       "  </thead>\n",
       "  <tbody>\n",
       "    <tr>\n",
       "      <th>Animal Contact</th>\n",
       "      <td>0</td>\n",
       "      <td>0</td>\n",
       "      <td>0</td>\n",
       "      <td>0</td>\n",
       "      <td>0</td>\n",
       "      <td>0</td>\n",
       "      <td>0</td>\n",
       "      <td>0</td>\n",
       "      <td>0</td>\n",
       "      <td>0</td>\n",
       "      <td>...</td>\n",
       "      <td>0</td>\n",
       "      <td>0</td>\n",
       "      <td>0</td>\n",
       "      <td>0</td>\n",
       "      <td>0</td>\n",
       "      <td>0</td>\n",
       "      <td>0</td>\n",
       "      <td>0</td>\n",
       "      <td>0</td>\n",
       "      <td>1</td>\n",
       "    </tr>\n",
       "    <tr>\n",
       "      <th>Environmental contamination other than food/water</th>\n",
       "      <td>0</td>\n",
       "      <td>0</td>\n",
       "      <td>0</td>\n",
       "      <td>0</td>\n",
       "      <td>0</td>\n",
       "      <td>0</td>\n",
       "      <td>0</td>\n",
       "      <td>0</td>\n",
       "      <td>0</td>\n",
       "      <td>0</td>\n",
       "      <td>...</td>\n",
       "      <td>0</td>\n",
       "      <td>12</td>\n",
       "      <td>0</td>\n",
       "      <td>0</td>\n",
       "      <td>0</td>\n",
       "      <td>0</td>\n",
       "      <td>0</td>\n",
       "      <td>0</td>\n",
       "      <td>0</td>\n",
       "      <td>0</td>\n",
       "    </tr>\n",
       "    <tr>\n",
       "      <th>Food</th>\n",
       "      <td>0</td>\n",
       "      <td>0</td>\n",
       "      <td>233</td>\n",
       "      <td>1</td>\n",
       "      <td>12</td>\n",
       "      <td>1</td>\n",
       "      <td>1</td>\n",
       "      <td>3</td>\n",
       "      <td>1</td>\n",
       "      <td>1</td>\n",
       "      <td>...</td>\n",
       "      <td>0</td>\n",
       "      <td>76</td>\n",
       "      <td>1</td>\n",
       "      <td>1</td>\n",
       "      <td>1</td>\n",
       "      <td>0</td>\n",
       "      <td>1</td>\n",
       "      <td>0</td>\n",
       "      <td>0</td>\n",
       "      <td>227</td>\n",
       "    </tr>\n",
       "    <tr>\n",
       "      <th>Indeterminate/Other/Unknown</th>\n",
       "      <td>0</td>\n",
       "      <td>0</td>\n",
       "      <td>0</td>\n",
       "      <td>0</td>\n",
       "      <td>0</td>\n",
       "      <td>0</td>\n",
       "      <td>0</td>\n",
       "      <td>0</td>\n",
       "      <td>0</td>\n",
       "      <td>0</td>\n",
       "      <td>...</td>\n",
       "      <td>0</td>\n",
       "      <td>201</td>\n",
       "      <td>0</td>\n",
       "      <td>0</td>\n",
       "      <td>0</td>\n",
       "      <td>2</td>\n",
       "      <td>3</td>\n",
       "      <td>0</td>\n",
       "      <td>0</td>\n",
       "      <td>61</td>\n",
       "    </tr>\n",
       "    <tr>\n",
       "      <th>Person-to-person</th>\n",
       "      <td>0</td>\n",
       "      <td>0</td>\n",
       "      <td>0</td>\n",
       "      <td>0</td>\n",
       "      <td>0</td>\n",
       "      <td>0</td>\n",
       "      <td>0</td>\n",
       "      <td>0</td>\n",
       "      <td>0</td>\n",
       "      <td>0</td>\n",
       "      <td>...</td>\n",
       "      <td>0</td>\n",
       "      <td>1700</td>\n",
       "      <td>0</td>\n",
       "      <td>0</td>\n",
       "      <td>0</td>\n",
       "      <td>32</td>\n",
       "      <td>4</td>\n",
       "      <td>0</td>\n",
       "      <td>0</td>\n",
       "      <td>19</td>\n",
       "    </tr>\n",
       "    <tr>\n",
       "      <th>Water</th>\n",
       "      <td>38</td>\n",
       "      <td>21</td>\n",
       "      <td>0</td>\n",
       "      <td>0</td>\n",
       "      <td>0</td>\n",
       "      <td>0</td>\n",
       "      <td>0</td>\n",
       "      <td>0</td>\n",
       "      <td>0</td>\n",
       "      <td>0</td>\n",
       "      <td>...</td>\n",
       "      <td>13</td>\n",
       "      <td>0</td>\n",
       "      <td>0</td>\n",
       "      <td>0</td>\n",
       "      <td>0</td>\n",
       "      <td>0</td>\n",
       "      <td>0</td>\n",
       "      <td>6</td>\n",
       "      <td>4</td>\n",
       "      <td>31</td>\n",
       "    </tr>\n",
       "  </tbody>\n",
       "</table>\n",
       "<p>6 rows × 231 columns</p>\n",
       "</div>"
      ],
      "text/plain": [
       "Setting                                            Apartment/Condo  \\\n",
       "Primary Mode                                                         \n",
       "Animal Contact                                                   0   \n",
       "Environmental contamination other than food/water                0   \n",
       "Food                                                             0   \n",
       "Indeterminate/Other/Unknown                                      0   \n",
       "Person-to-person                                                 0   \n",
       "Water                                                           38   \n",
       "\n",
       "Setting                                            Assisted Living/Rehab  \\\n",
       "Primary Mode                                                               \n",
       "Animal Contact                                                         0   \n",
       "Environmental contamination other than food/water                      0   \n",
       "Food                                                                   0   \n",
       "Indeterminate/Other/Unknown                                            0   \n",
       "Person-to-person                                                       0   \n",
       "Water                                                                 21   \n",
       "\n",
       "Setting                                            Banquet Facility (food prepared and served on-site)  \\\n",
       "Primary Mode                                                                                             \n",
       "Animal Contact                                                                                     0     \n",
       "Environmental contamination other than food/water                                                  0     \n",
       "Food                                                                                             233     \n",
       "Indeterminate/Other/Unknown                                                                        0     \n",
       "Person-to-person                                                                                   0     \n",
       "Water                                                                                              0     \n",
       "\n",
       "Setting                                            Banquet Facility (food prepared and served on-site); Camp; Hotel/motel  \\\n",
       "Primary Mode                                                                                                                \n",
       "Animal Contact                                                                                     0                        \n",
       "Environmental contamination other than food/water                                                  0                        \n",
       "Food                                                                                               1                        \n",
       "Indeterminate/Other/Unknown                                                                        0                        \n",
       "Person-to-person                                                                                   0                        \n",
       "Water                                                                                              0                        \n",
       "\n",
       "Setting                                            Banquet Facility (food prepared and served on-site); Caterer (food prepared off-site from where served)  \\\n",
       "Primary Mode                                                                                                                                                 \n",
       "Animal Contact                                                                                     0                                                         \n",
       "Environmental contamination other than food/water                                                  0                                                         \n",
       "Food                                                                                              12                                                         \n",
       "Indeterminate/Other/Unknown                                                                        0                                                         \n",
       "Person-to-person                                                                                   0                                                         \n",
       "Water                                                                                              0                                                         \n",
       "\n",
       "Setting                                            Banquet Facility (food prepared and served on-site); Caterer (food prepared off-site from where served); Fair, festival, other temp or mobile services  \\\n",
       "Primary Mode                                                                                                                                                                                                \n",
       "Animal Contact                                                                                     0                                                                                                        \n",
       "Environmental contamination other than food/water                                                  0                                                                                                        \n",
       "Food                                                                                               1                                                                                                        \n",
       "Indeterminate/Other/Unknown                                                                        0                                                                                                        \n",
       "Person-to-person                                                                                   0                                                                                                        \n",
       "Water                                                                                              0                                                                                                        \n",
       "\n",
       "Setting                                            Banquet Facility (food prepared and served on-site); Caterer (food prepared off-site from where served); Religious facility  \\\n",
       "Primary Mode                                                                                                                                                                     \n",
       "Animal Contact                                                                                     0                                                                             \n",
       "Environmental contamination other than food/water                                                  0                                                                             \n",
       "Food                                                                                               1                                                                             \n",
       "Indeterminate/Other/Unknown                                                                        0                                                                             \n",
       "Person-to-person                                                                                   0                                                                             \n",
       "Water                                                                                              0                                                                             \n",
       "\n",
       "Setting                                            Banquet Facility (food prepared and served on-site); Other  \\\n",
       "Primary Mode                                                                                                    \n",
       "Animal Contact                                                                                     0            \n",
       "Environmental contamination other than food/water                                                  0            \n",
       "Food                                                                                               3            \n",
       "Indeterminate/Other/Unknown                                                                        0            \n",
       "Person-to-person                                                                                   0            \n",
       "Water                                                                                              0            \n",
       "\n",
       "Setting                                            Banquet Facility (food prepared and served on-site); Religious facility  \\\n",
       "Primary Mode                                                                                                                 \n",
       "Animal Contact                                                                                     0                         \n",
       "Environmental contamination other than food/water                                                  0                         \n",
       "Food                                                                                               1                         \n",
       "Indeterminate/Other/Unknown                                                                        0                         \n",
       "Person-to-person                                                                                   0                         \n",
       "Water                                                                                              0                         \n",
       "\n",
       "Setting                                            Banquet Facility (food prepared and served on-site); Restaurant - Buffet  \\\n",
       "Primary Mode                                                                                                                  \n",
       "Animal Contact                                                                                     0                          \n",
       "Environmental contamination other than food/water                                                  0                          \n",
       "Food                                                                                               1                          \n",
       "Indeterminate/Other/Unknown                                                                        0                          \n",
       "Person-to-person                                                                                   0                          \n",
       "Water                                                                                              0                          \n",
       "\n",
       "Setting                                            ...  \\\n",
       "Primary Mode                                       ...   \n",
       "Animal Contact                                     ...   \n",
       "Environmental contamination other than food/water  ...   \n",
       "Food                                               ...   \n",
       "Indeterminate/Other/Unknown                        ...   \n",
       "Person-to-person                                   ...   \n",
       "Water                                              ...   \n",
       "\n",
       "Setting                                            School/College/University  \\\n",
       "Primary Mode                                                                   \n",
       "Animal Contact                                                             0   \n",
       "Environmental contamination other than food/water                          0   \n",
       "Food                                                                       0   \n",
       "Indeterminate/Other/Unknown                                                0   \n",
       "Person-to-person                                                           0   \n",
       "Water                                                                     13   \n",
       "\n",
       "Setting                                            School/college/university  \\\n",
       "Primary Mode                                                                   \n",
       "Animal Contact                                                             0   \n",
       "Environmental contamination other than food/water                         12   \n",
       "Food                                                                      76   \n",
       "Indeterminate/Other/Unknown                                              201   \n",
       "Person-to-person                                                        1700   \n",
       "Water                                                                      0   \n",
       "\n",
       "Setting                                            School/college/university; Camp  \\\n",
       "Primary Mode                                                                         \n",
       "Animal Contact                                                                   0   \n",
       "Environmental contamination other than food/water                                0   \n",
       "Food                                                                             1   \n",
       "Indeterminate/Other/Unknown                                                      0   \n",
       "Person-to-person                                                                 0   \n",
       "Water                                                                            0   \n",
       "\n",
       "Setting                                            School/college/university; Other  \\\n",
       "Primary Mode                                                                          \n",
       "Animal Contact                                                                    0   \n",
       "Environmental contamination other than food/water                                 0   \n",
       "Food                                                                              1   \n",
       "Indeterminate/Other/Unknown                                                       0   \n",
       "Person-to-person                                                                  0   \n",
       "Water                                                                             0   \n",
       "\n",
       "Setting                                            School/college/university; Prison/jail  \\\n",
       "Primary Mode                                                                                \n",
       "Animal Contact                                                                          0   \n",
       "Environmental contamination other than food/water                                       0   \n",
       "Food                                                                                    1   \n",
       "Indeterminate/Other/Unknown                                                             0   \n",
       "Person-to-person                                                                        0   \n",
       "Water                                                                                   0   \n",
       "\n",
       "Setting                                            Shelter/group home/transitional housing  \\\n",
       "Primary Mode                                                                                 \n",
       "Animal Contact                                                                           0   \n",
       "Environmental contamination other than food/water                                        0   \n",
       "Food                                                                                     0   \n",
       "Indeterminate/Other/Unknown                                                              2   \n",
       "Person-to-person                                                                        32   \n",
       "Water                                                                                    0   \n",
       "\n",
       "Setting                                            Ship/boat  \\\n",
       "Primary Mode                                                   \n",
       "Animal Contact                                             0   \n",
       "Environmental contamination other than food/water          0   \n",
       "Food                                                       1   \n",
       "Indeterminate/Other/Unknown                                3   \n",
       "Person-to-person                                           4   \n",
       "Water                                                      0   \n",
       "\n",
       "Setting                                            Subdivision/Neighborhood  \\\n",
       "Primary Mode                                                                  \n",
       "Animal Contact                                                            0   \n",
       "Environmental contamination other than food/water                         0   \n",
       "Food                                                                      0   \n",
       "Indeterminate/Other/Unknown                                               0   \n",
       "Person-to-person                                                          0   \n",
       "Water                                                                     6   \n",
       "\n",
       "Setting                                            Trailer Park  Unknown  \n",
       "Primary Mode                                                              \n",
       "Animal Contact                                                0        1  \n",
       "Environmental contamination other than food/water             0        0  \n",
       "Food                                                          0      227  \n",
       "Indeterminate/Other/Unknown                                   0       61  \n",
       "Person-to-person                                              0       19  \n",
       "Water                                                         4       31  \n",
       "\n",
       "[6 rows x 231 columns]"
      ]
     },
     "execution_count": 103,
     "metadata": {},
     "output_type": "execute_result"
    }
   ],
   "source": [
    "# Made a two way table of setting and primary mode for visualization purposes\n",
    "mode_setting = pd.crosstab(index = newdf['Primary Mode'], \n",
    "                           columns = newdf['Setting'])\n",
    "\n",
    "mode_setting"
   ]
  },
  {
   "cell_type": "markdown",
   "id": "b2a9363d",
   "metadata": {},
   "source": [
    "#### It's interesting to see that the data makes sense, for example at schools and universities person-to-person contact is the most common way to catch an illness"
   ]
  },
  {
   "cell_type": "markdown",
   "id": "85fda6a4",
   "metadata": {},
   "source": [
    "### I decided to only encode the Primary Mode column for the purposes of this exploration because the other columns had several values that were seperated with semicolons and I felt that would take away from the accuracy of the model"
   ]
  },
  {
   "cell_type": "code",
   "execution_count": 104,
   "id": "3c1d0d4d",
   "metadata": {},
   "outputs": [
    {
     "name": "stderr",
     "output_type": "stream",
     "text": [
      "C:\\Users\\aphel\\AppData\\Local\\Temp\\ipykernel_29636\\668872232.py:1: SettingWithCopyWarning: \n",
      "A value is trying to be set on a copy of a slice from a DataFrame\n",
      "\n",
      "See the caveats in the documentation: https://pandas.pydata.org/pandas-docs/stable/user_guide/indexing.html#returning-a-view-versus-a-copy\n",
      "  newdf['Primary Mode'].replace(['Person-to-person', 'Food', 'Indeterminate/Other/Unknown', 'Water',\n"
     ]
    },
    {
     "data": {
      "text/plain": [
       "0        0\n",
       "1        1\n",
       "2        0\n",
       "3        0\n",
       "5        1\n",
       "        ..\n",
       "57582    1\n",
       "57583    1\n",
       "57619    1\n",
       "57620    1\n",
       "57644    0\n",
       "Name: Primary Mode, Length: 26909, dtype: int64"
      ]
     },
     "execution_count": 104,
     "metadata": {},
     "output_type": "execute_result"
    }
   ],
   "source": [
    "newdf['Primary Mode'].replace(['Person-to-person', 'Food', 'Indeterminate/Other/Unknown', 'Water', \n",
    "                               'Environmental contamination other than food/water', 'Animal Contact'\n",
    "                              ],\n",
    "                        [0, 1, 2, 3, 4, 5], inplace=True)\n",
    "\n",
    "newdf['Primary Mode']"
   ]
  },
  {
   "cell_type": "code",
   "execution_count": 105,
   "id": "75d9af46",
   "metadata": {},
   "outputs": [
    {
     "data": {
      "text/plain": [
       "0        0\n",
       "1        1\n",
       "2        0\n",
       "3        0\n",
       "5        1\n",
       "        ..\n",
       "57582    1\n",
       "57583    1\n",
       "57619    1\n",
       "57620    1\n",
       "57644    0\n",
       "Name: Primary Mode, Length: 26909, dtype: int64"
      ]
     },
     "execution_count": 105,
     "metadata": {},
     "output_type": "execute_result"
    }
   ],
   "source": [
    "#printing the dataset to ensure that every category encoded properly\n",
    "newdf['Primary Mode']"
   ]
  },
  {
   "cell_type": "markdown",
   "id": "81ce0632",
   "metadata": {},
   "source": [
    "### Next I added the primary mode variable to the list of values in x and called the function to run and overall there was no substantial change, I feel like the data is just not complete enough to accurately predict because there is so much data that is missing or imputted in an awkward way"
   ]
  },
  {
   "cell_type": "code",
   "execution_count": 106,
   "id": "c4594c0c",
   "metadata": {},
   "outputs": [
    {
     "name": "stdout",
     "output_type": "stream",
     "text": [
      "Coefficients: \n",
      " [ 0.13795709  0.89385898  0.04400665  0.07669703 -0.91047193]\n",
      "Mean squared error: 231.52\n",
      "Coefficient of determination: 0.82\n"
     ]
    }
   ],
   "source": [
    "x = newdf[['Hospitalizations','Info on Deaths','Deaths','Info on Hospitalizations', 'Primary Mode']]\n",
    "y = newdf['Illnesses']\n",
    "\n",
    "train_linear_regression(x, y)"
   ]
  },
  {
   "cell_type": "markdown",
   "id": "47d43a1e",
   "metadata": {},
   "source": [
    "### The linear regression had an R^2 value that was close to 1 however the MSE was so far off and indicated a high variance between the observed and predicted data which showed that this model is not very reliable "
   ]
  },
  {
   "cell_type": "markdown",
   "id": "3e7e5944",
   "metadata": {},
   "source": [
    "## Using a different approach I wanted to try and predict the Primary mode of transmission and to do that I conducted a logistical regression since I am trying to predict a categorical variable using quantitative data"
   ]
  },
  {
   "cell_type": "code",
   "execution_count": 107,
   "id": "00b4ab24",
   "metadata": {},
   "outputs": [],
   "source": [
    "x = newdf[['Hospitalizations','Info on Deaths','Deaths','Info on Hospitalizations', 'Illnesses']]\n",
    "y = newdf['Primary Mode']\n",
    "\n",
    "from sklearn.metrics import accuracy_score\n",
    "\n",
    "def train_logistic_regression(x, y):\n",
    "    \n",
    "    #Get number of examples\n",
    "    N_EXAMPLES = len(y)\n",
    "    TEST_SIZE = round(0.25 * N_EXAMPLES)\n",
    "\n",
    "    # Split the data into training/testing sets\n",
    "    x_train = x[:-TEST_SIZE]\n",
    "    x_test = x[-TEST_SIZE:]\n",
    "\n",
    "    # Split the targets into training/testing sets\n",
    "    y_train = y[:-TEST_SIZE]\n",
    "    y_test = y[-TEST_SIZE:]\n",
    "\n",
    "    # Create logistic regression object\n",
    "    regr = linear_model.LogisticRegression(solver='liblinear')\n",
    "\n",
    "    # Train the model using the training sets\n",
    "    regr.fit(x_train, y_train)\n",
    "    \n",
    "    # Look at training error\n",
    "    y_pred_train = regr.predict(x_train)\n",
    "    print(accuracy_score(y_train, y_pred_train))\n",
    "\n",
    "    # Make predictions using the testing set\n",
    "    y_pred = regr.predict(x_test)\n",
    "    \n",
    "    # Get test error\n",
    "    print(accuracy_score(y_test, y_pred))\n",
    "    \n",
    "    print(regr.coef_)\n",
    "    \n",
    "    return regr"
   ]
  },
  {
   "cell_type": "code",
   "execution_count": 108,
   "id": "b2e056e8",
   "metadata": {},
   "outputs": [
    {
     "name": "stdout",
     "output_type": "stream",
     "text": [
      "0.6414131404221584\n",
      "0.6244982904712353\n",
      "[[-0.18850368  0.00481661  0.27014207  0.00587328  0.0164726 ]\n",
      " [ 0.14608218 -0.00086223 -0.58076906  0.00104058 -0.02265243]\n",
      " [-0.00085468 -0.00710864 -0.09866049 -0.00512376 -0.00514013]\n",
      " [ 0.11617225 -0.00367728  0.33862045 -0.02535944 -0.00315164]\n",
      " [-0.01387596 -0.00971246 -0.13103868  0.00581273  0.00197772]\n",
      " [ 0.116706    0.06005217 -0.40336423  0.02273761 -0.36145582]]\n"
     ]
    },
    {
     "data": {
      "text/html": [
       "<style>#sk-container-id-5 {color: black;background-color: white;}#sk-container-id-5 pre{padding: 0;}#sk-container-id-5 div.sk-toggleable {background-color: white;}#sk-container-id-5 label.sk-toggleable__label {cursor: pointer;display: block;width: 100%;margin-bottom: 0;padding: 0.3em;box-sizing: border-box;text-align: center;}#sk-container-id-5 label.sk-toggleable__label-arrow:before {content: \"▸\";float: left;margin-right: 0.25em;color: #696969;}#sk-container-id-5 label.sk-toggleable__label-arrow:hover:before {color: black;}#sk-container-id-5 div.sk-estimator:hover label.sk-toggleable__label-arrow:before {color: black;}#sk-container-id-5 div.sk-toggleable__content {max-height: 0;max-width: 0;overflow: hidden;text-align: left;background-color: #f0f8ff;}#sk-container-id-5 div.sk-toggleable__content pre {margin: 0.2em;color: black;border-radius: 0.25em;background-color: #f0f8ff;}#sk-container-id-5 input.sk-toggleable__control:checked~div.sk-toggleable__content {max-height: 200px;max-width: 100%;overflow: auto;}#sk-container-id-5 input.sk-toggleable__control:checked~label.sk-toggleable__label-arrow:before {content: \"▾\";}#sk-container-id-5 div.sk-estimator input.sk-toggleable__control:checked~label.sk-toggleable__label {background-color: #d4ebff;}#sk-container-id-5 div.sk-label input.sk-toggleable__control:checked~label.sk-toggleable__label {background-color: #d4ebff;}#sk-container-id-5 input.sk-hidden--visually {border: 0;clip: rect(1px 1px 1px 1px);clip: rect(1px, 1px, 1px, 1px);height: 1px;margin: -1px;overflow: hidden;padding: 0;position: absolute;width: 1px;}#sk-container-id-5 div.sk-estimator {font-family: monospace;background-color: #f0f8ff;border: 1px dotted black;border-radius: 0.25em;box-sizing: border-box;margin-bottom: 0.5em;}#sk-container-id-5 div.sk-estimator:hover {background-color: #d4ebff;}#sk-container-id-5 div.sk-parallel-item::after {content: \"\";width: 100%;border-bottom: 1px solid gray;flex-grow: 1;}#sk-container-id-5 div.sk-label:hover label.sk-toggleable__label {background-color: #d4ebff;}#sk-container-id-5 div.sk-serial::before {content: \"\";position: absolute;border-left: 1px solid gray;box-sizing: border-box;top: 0;bottom: 0;left: 50%;z-index: 0;}#sk-container-id-5 div.sk-serial {display: flex;flex-direction: column;align-items: center;background-color: white;padding-right: 0.2em;padding-left: 0.2em;position: relative;}#sk-container-id-5 div.sk-item {position: relative;z-index: 1;}#sk-container-id-5 div.sk-parallel {display: flex;align-items: stretch;justify-content: center;background-color: white;position: relative;}#sk-container-id-5 div.sk-item::before, #sk-container-id-5 div.sk-parallel-item::before {content: \"\";position: absolute;border-left: 1px solid gray;box-sizing: border-box;top: 0;bottom: 0;left: 50%;z-index: -1;}#sk-container-id-5 div.sk-parallel-item {display: flex;flex-direction: column;z-index: 1;position: relative;background-color: white;}#sk-container-id-5 div.sk-parallel-item:first-child::after {align-self: flex-end;width: 50%;}#sk-container-id-5 div.sk-parallel-item:last-child::after {align-self: flex-start;width: 50%;}#sk-container-id-5 div.sk-parallel-item:only-child::after {width: 0;}#sk-container-id-5 div.sk-dashed-wrapped {border: 1px dashed gray;margin: 0 0.4em 0.5em 0.4em;box-sizing: border-box;padding-bottom: 0.4em;background-color: white;}#sk-container-id-5 div.sk-label label {font-family: monospace;font-weight: bold;display: inline-block;line-height: 1.2em;}#sk-container-id-5 div.sk-label-container {text-align: center;}#sk-container-id-5 div.sk-container {/* jupyter's `normalize.less` sets `[hidden] { display: none; }` but bootstrap.min.css set `[hidden] { display: none !important; }` so we also need the `!important` here to be able to override the default hidden behavior on the sphinx rendered scikit-learn.org. See: https://github.com/scikit-learn/scikit-learn/issues/21755 */display: inline-block !important;position: relative;}#sk-container-id-5 div.sk-text-repr-fallback {display: none;}</style><div id=\"sk-container-id-5\" class=\"sk-top-container\"><div class=\"sk-text-repr-fallback\"><pre>LogisticRegression(solver=&#x27;liblinear&#x27;)</pre><b>In a Jupyter environment, please rerun this cell to show the HTML representation or trust the notebook. <br />On GitHub, the HTML representation is unable to render, please try loading this page with nbviewer.org.</b></div><div class=\"sk-container\" hidden><div class=\"sk-item\"><div class=\"sk-estimator sk-toggleable\"><input class=\"sk-toggleable__control sk-hidden--visually\" id=\"sk-estimator-id-5\" type=\"checkbox\" checked><label for=\"sk-estimator-id-5\" class=\"sk-toggleable__label sk-toggleable__label-arrow\">LogisticRegression</label><div class=\"sk-toggleable__content\"><pre>LogisticRegression(solver=&#x27;liblinear&#x27;)</pre></div></div></div></div></div>"
      ],
      "text/plain": [
       "LogisticRegression(solver='liblinear')"
      ]
     },
     "execution_count": 108,
     "metadata": {},
     "output_type": "execute_result"
    }
   ],
   "source": [
    "train_logistic_regression(x, y)"
   ]
  },
  {
   "cell_type": "markdown",
   "id": "bb97162b",
   "metadata": {},
   "source": [
    "### The model I ended with had an 62% accuracy rate of being able to predict the Primary Mode of transmission using several variables from the dataset. "
   ]
  }
 ],
 "metadata": {
  "kernelspec": {
   "display_name": "Python 3 (ipykernel)",
   "language": "python",
   "name": "python3"
  },
  "language_info": {
   "codemirror_mode": {
    "name": "ipython",
    "version": 3
   },
   "file_extension": ".py",
   "mimetype": "text/x-python",
   "name": "python",
   "nbconvert_exporter": "python",
   "pygments_lexer": "ipython3",
   "version": "3.9.12"
  }
 },
 "nbformat": 4,
 "nbformat_minor": 5
}
